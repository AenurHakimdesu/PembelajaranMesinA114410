{
 "cells": [
  {
   "cell_type": "code",
   "execution_count": 2,
   "id": "cf554e5c-6de5-4e00-9515-2d8fa223cb6c",
   "metadata": {},
   "outputs": [],
   "source": [
    "import numpy as np\n",
    "from matplotlib import pyplot as plt\n",
    "from matplotlib.pyplot import cm\n",
    "import time\n",
    "import itertools\n",
    "\n",
    "datasetPath = \"dataku.txt\"\n",
    "dataset = np.loadtxt(datasetPath, delimiter=\" \")\n",
    "\n",
    "k = 2\n",
    "iterationCounter = 0\n",
    "input = dataset\n",
    "\n",
    "def initCentroid(dataIn, k):\n",
    "    result = dataIn[np.random.choice(dataIn.shape[0], k, replace=False)]\n",
    "    return result"
   ]
  },
  {
   "cell_type": "code",
   "execution_count": 10,
   "id": "1eadd38a-ee60-4006-9da7-6de1e02da971",
   "metadata": {},
   "outputs": [],
   "source": [
    "def plotClusterResult(listClusterMembers, centroid, iteration, converged):\n",
    "    n = listClusterMembers.__len__()\n",
    "    color = iter(cm.rainbow(np.linspace(0, 1, n)))\n",
    "    plt.figure(\"result\")\n",
    "    plt.clf()\n",
    "    plt.title(\"iteration-\" + iteration)\n",
    "    marker = itertools.cycle(('.', '*', '^', 'x', '+'))\n",
    "    for i in range(n):\n",
    "        col = next(color)\n",
    "        memberCluster = np.asmatrix(listClusterMembers[i])\n",
    "        plt.scatter(np.ravel(memberCluster[:, 0]), np.ravel(memberCluster[:, 1]),\n",
    "                    marker=marker.__next__(), s=100, c=col, label=\"klaster-\"+str(i+1))\n",
    "    for i in range(n):\n",
    "        plt.scatter((centroid[i, 0]), (centroid[i, 1]), marker=marker.__next__()\n",
    "                    , c=col, label=\"centroid-\" + str(i + 1))\n",
    "    if(converged == 0):\n",
    "        plt.legend()\n",
    "        plt.ion()\n",
    "        plt.show()\n",
    "        plt.pause(0.1)\n",
    "    if(converged == 1):\n",
    "        plt.legend()\n",
    "        plt.show(block=True)"
   ]
  },
  {
   "cell_type": "code",
   "execution_count": 52,
   "id": "75712ba8-7065-49c0-a961-a3a9c60db2a2",
   "metadata": {},
   "outputs": [],
   "source": [
    "def KMeans(data, centroidInit):\n",
    "    nCluster = len(centroidInit)  # Jumlah klaster berdasarkan jumlah centroid awal\n",
    "    global iterationCounter\n",
    "    iterationCounter = 0  # Inisialisasi iterasi\n",
    "    centroidInit = np.array(centroidInit)  # Pastikan centroid dalam bentuk array\n",
    "\n",
    "    while True:\n",
    "        iterationCounter += 1\n",
    "        euclideanMatrixAllCluster = np.ndarray(shape=(data.shape[0], 0))\n",
    "        \n",
    "        # Menghitung jarak Euclidean untuk setiap klaster\n",
    "        for i in range(nCluster):\n",
    "            centroidRepeated = np.repeat(centroidInit[i, :].reshape(1, -1), data.shape[0], axis=0)\n",
    "            deltaMatrix = np.subtract(data, centroidRepeated)\n",
    "            euclideanMatrix = np.sqrt(np.square(deltaMatrix).sum(axis=1))\n",
    "            \n",
    "            # Menggabungkan hasil jarak Euclidean ke matriks\n",
    "            euclideanMatrixAllCluster = np.concatenate(\n",
    "                (euclideanMatrixAllCluster, euclideanMatrix.reshape(-1, 1)), axis=1\n",
    "            )\n",
    "        \n",
    "        # Menentukan klaster untuk setiap data berdasarkan jarak minimum\n",
    "        clusterMatrix = np.argmin(euclideanMatrixAllCluster, axis=1)\n",
    "        listClusterMember = [[] for _ in range(nCluster)]\n",
    "        for i in range(data.shape[0]):\n",
    "            listClusterMember[clusterMatrix[i].item()].append(data[i, :])  # Ganti np.asscalar dengan item()\n",
    "        \n",
    "        # Menghitung centroid baru\n",
    "        newCentroid = np.ndarray(shape=(0, centroidInit.shape[1]))\n",
    "        for i in range(nCluster):\n",
    "            memberCluster = np.array(listClusterMember[i])\n",
    "            if len(memberCluster) > 0:  # Cek jika klaster memiliki anggota\n",
    "                centroidCluster = memberCluster.mean(axis=0)\n",
    "            else:\n",
    "                centroidCluster = centroidInit[i]  # Jika kosong, gunakan centroid lama\n",
    "            newCentroid = np.vstack((newCentroid, centroidCluster))\n",
    "        \n",
    "        print(\"Iterasi:\", iterationCounter)\n",
    "        print(\"Centroid:\", newCentroid)\n",
    "        \n",
    "        # Mengecek konvergensi (jika centroid tidak berubah)\n",
    "        if np.allclose(centroidInit, newCentroid):\n",
    "            break\n",
    "        \n",
    "        centroidInit = newCentroid\n",
    "        \n",
    "        # Visualisasi hasil klaster (opsional)\n",
    "        # plotClusterResult(listClusterMember, centroidInit, str(iterationCounter), 0)\n",
    "        time.sleep(1)  # Opsional: jeda 1 detik untuk visualisasi\n",
    "\n",
    "    return listClusterMember, centroidInit\n"
   ]
  },
  {
   "cell_type": "code",
   "execution_count": 54,
   "id": "b1d81b20-6ebb-4aeb-b32b-3d8010fe13c7",
   "metadata": {},
   "outputs": [
    {
     "name": "stdout",
     "output_type": "stream",
     "text": [
      "Iterasi: 1\n",
      "Centroid: [[-0.75255    -3.40228333]\n",
      " [ 2.19148     4.68148   ]]\n",
      "Iterasi: 2\n",
      "Centroid: [[-0.75255    -3.40228333]\n",
      " [ 2.19148     4.68148   ]]\n"
     ]
    },
    {
     "name": "stderr",
     "output_type": "stream",
     "text": [
      "C:\\Users\\aenur\\AppData\\Local\\Temp\\ipykernel_4960\\2379217922.py:11: UserWarning: *c* argument looks like a single numeric RGB or RGBA sequence, which should be avoided as value-mapping will have precedence in case its length matches with *x* & *y*.  Please use the *color* keyword-argument or provide a 2D array with a single row if you intend to specify the same RGB or RGBA value for all points.\n",
      "  plt.scatter(np.ravel(memberCluster[:, 0]), np.ravel(memberCluster[:, 1]),\n",
      "C:\\Users\\aenur\\AppData\\Local\\Temp\\ipykernel_4960\\2379217922.py:14: UserWarning: *c* argument looks like a single numeric RGB or RGBA sequence, which should be avoided as value-mapping will have precedence in case its length matches with *x* & *y*.  Please use the *color* keyword-argument or provide a 2D array with a single row if you intend to specify the same RGB or RGBA value for all points.\n",
      "  plt.scatter((centroid[i, 0]), (centroid[i, 1]), marker=marker.__next__()\n"
     ]
    },
    {
     "data": {
      "image/png": "[encoded data removed]",
      "text/plain": [
       "<Figure size 640x480 with 1 Axes>"
      ]
     },
     "metadata": {},
     "output_type": "display_data"
    }
   ],
   "source": [
    "centroidInit = initCentroid(input, k)\n",
    "clusterResults, centroid = KMeans(input, centroidInit)\n",
    "plotClusterResult(clusterResults, centroid, str(iterationCounter) + \" (converged) \", 1)"
   ]
  },
  {
   "cell_type": "markdown",
   "id": "bd020784-c3bb-4020-8f02-8762915c603b",
   "metadata": {},
   "source": [
    "# User\n",
    "centroidInit = initCentroid(input, k)\n",
    "clusterResults, centroid = KMeans(input, centroidInit)\n",
    "plotClusterResult(clusterResults, centroid, str(iterationCounter) + \" (converged) \", 1)\n",
    "\n",
    "error:"
   ]
  },
  {
   "cell_type": "code",
   "execution_count": null,
   "id": "3d15c9b8-9180-456b-a073-c606326d7685",
   "metadata": {},
   "outputs": [],
   "source": []
  }
 ],
 "metadata": {
  "kernelspec": {
   "display_name": "Python 3 (ipykernel)",
   "language": "python",
   "name": "python3"
  },
  "language_info": {
   "codemirror_mode": {
    "name": "ipython",
    "version": 3
   },
   "file_extension": ".py",
   "mimetype": "text/x-python",
   "name": "python",
   "nbconvert_exporter": "python",
   "pygments_lexer": "ipython3",
   "version": "3.12.7"
  }
 },
 "nbformat": 4,
 "nbformat_minor": 5
}
